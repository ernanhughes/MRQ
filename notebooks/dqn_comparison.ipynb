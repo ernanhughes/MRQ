{
 "cells": [
  {
   "cell_type": "markdown",
   "metadata": {},
   "source": [
    "## Get some stock data\n",
    "We are going to update the get_stock_data function we are going to add the rsi."
   ]
  },
  {
   "cell_type": "code",
   "execution_count": 20,
   "metadata": {},
   "outputs": [
    {
     "name": "stderr",
     "output_type": "stream",
     "text": [
      "[*********************100%***********************]  1 of 1 completed"
     ]
    },
    {
     "name": "stdout",
     "output_type": "stream",
     "text": [
      "       Close     SMA_5    SMA_20    Return  Volatility        RSI\n",
      "20  5.894132  5.957449  6.204051 -0.001505    0.146020  40.705361\n",
      "21  5.995547  5.905387  6.181255  0.122180    0.165843  41.111477\n",
      "22  5.779474  5.861811  6.152786 -0.140837    0.161059  37.621067\n",
      "23  5.882095  5.882275  6.130036  0.085164    0.104118  42.533193\n",
      "24  5.841769  5.878603  6.103162 -0.047247    0.105104  33.221108\n"
     ]
    },
    {
     "name": "stderr",
     "output_type": "stream",
     "text": [
      "\n"
     ]
    }
   ],
   "source": [
    "import yfinance as yf\n",
    "import pandas as pd\n",
    "\n",
    "def get_stock_data(symbol, start=\"2010-01-01\", end=\"2024-01-01\"):\n",
    "    \"\"\"Fetch stock data from Yahoo Finance.\"\"\"\n",
    "    data = yf.download(symbol, start=start, end=end)\n",
    "    file_name = f\"{symbol}_{start}_{end}.csv\"\n",
    "    data.to_csv(file_name)\n",
    "    headers = ['Date','Close','High','Low','Open','Volume']\n",
    "\n",
    "    # Load CSV while skipping the first 3 lines\n",
    "    stock = pd.read_csv(file_name, skiprows=3, names=headers)\n",
    "    stock[\"SMA_5\"] = stock[\"Close\"].rolling(window=5).mean()\n",
    "    stock[\"SMA_20\"] = stock[\"Close\"].rolling(window=20).mean()\n",
    "    stock[\"Return\"] = stock[\"Close\"] - stock[\"Open\"]\n",
    "    stock[\"Volatility\"] = stock[\"Return\"].rolling(window=5).std()\n",
    "    delta = stock[\"Close\"].diff(1)\n",
    "    delta.fillna(0, inplace=True)  # Fix: Replace NaN with 0\n",
    "\n",
    "    gain = delta.where(delta > 0, 0)\n",
    "    loss = -delta.where(delta < 0, 0)\n",
    "\n",
    "    avg_gain = gain.rolling(window=14, min_periods=1).mean()\n",
    "    avg_loss = loss.rolling(window=14, min_periods=1).mean()\n",
    "\n",
    "    rs = avg_gain / (avg_loss + 1e-9)  # Avoid division by zero\n",
    "    stock[\"RSI\"] = 100 - (100 / (1 + rs))\n",
    "    stock = stock.iloc[20:] # calc of 20 day moving average will lead ot NaN values\n",
    "    return stock\n",
    "\n",
    "data = get_stock_data(\"AAPL\")\n",
    "FEATURES = [\"Close\", \"SMA_5\", \"SMA_20\", \"Return\", \"Volatility\", \"RSI\"]\n",
    "data[FEATURES].head()\n",
    "data = data[FEATURES]\n",
    "data = data.astype(float)\n",
    "dates = data.index\n",
    "print(data.head())"
   ]
  },
  {
   "cell_type": "markdown",
   "metadata": {},
   "source": [
    "## Replay Buffer\n",
    "This class stores past experiences (state, action, reward, next state, done) in a buffer \n",
    "and assigns priorities to them based on how important they are for learning."
   ]
  },
  {
   "cell_type": "code",
   "execution_count": 21,
   "metadata": {},
   "outputs": [],
   "source": [
    "import numpy as np\n",
    "import torch\n",
    "import torch.nn as nn\n",
    "\n",
    "# 🔹 Implement Prioritized Experience Replay (PER)\n",
    "class PrioritizedReplayBuffer:\n",
    "    def __init__(self, max_size=100000, alpha=0.6):\n",
    "        self.max_size = max_size\n",
    "        self.alpha = alpha  # Prioritization factor\n",
    "        self.states, self.actions, self.rewards, self.next_states, self.dones = [], [], [], [], []\n",
    "        self.priorities = []  # Stores priority for each experience\n",
    "\n",
    "    def add(self, state, action, reward, next_state, done, td_error=1.0):\n",
    "        \"\"\"Add experience with priority based on TD error.\"\"\"\n",
    "        if len(self.states) >= self.max_size:\n",
    "            del self.states[0], self.actions[0], self.rewards[0], self.next_states[0], self.dones[0], self.priorities[0]\n",
    "\n",
    "        self.states.append(state)\n",
    "        self.actions.append(action)\n",
    "        self.rewards.append(reward)\n",
    "        self.next_states.append(next_state)\n",
    "        self.dones.append(done)\n",
    "        self.priorities.append(abs(td_error) + 1e-5)  # Small value to prevent zero probability\n",
    "\n",
    "    def sample(self, batch_size, beta=0.4):\n",
    "        \"\"\"Sample experiences with probability proportional to priority.\"\"\"\n",
    "        priorities = np.array(self.priorities) ** self.alpha\n",
    "        probs = priorities / priorities.sum()\n",
    "        indices = np.random.choice(len(self.states), batch_size, p=probs)\n",
    "\n",
    "        # Compute importance-sampling weights\n",
    "        total = len(self.states)\n",
    "        weights = (total * probs[indices]) ** (-beta)\n",
    "        weights /= weights.max()\n",
    "\n",
    "        return (torch.tensor(np.array(self.states), dtype=torch.float32)[indices],\n",
    "                torch.tensor(np.array(self.actions), dtype=torch.int64)[indices],\n",
    "                torch.tensor(np.array(self.rewards), dtype=torch.float32)[indices].unsqueeze(1),\n",
    "                torch.tensor(np.array(self.next_states), dtype=torch.float32)[indices],\n",
    "                torch.tensor(np.array(self.dones), dtype=torch.float32)[indices].unsqueeze(1),\n",
    "                torch.tensor(weights, dtype=torch.float32).unsqueeze(1), indices)\n",
    "\n",
    "    def update_priorities(self, indices, td_errors):\n",
    "        \"\"\"Update priorities after training using TD errors.\"\"\"\n",
    "        for i, td_error in zip(indices, td_errors):\n",
    "            self.priorities[i] = abs(td_error.item()) + 1e-5"
   ]
  },
  {
   "cell_type": "markdown",
   "metadata": {},
   "source": [
    "##  Define the MR.Q Trading Agent\n",
    "\n",
    "The MRQTradingAgent is a reinforcement learning (RL) trading agent that uses a softmax based policy network to decide whether to buy, sell, or hold stocks. Unlike traditional Q-learning (DQN), MR.Q optimizes decisions using probabilistic action selection rather than selecting the action with the highest Q-value."
   ]
  },
  {
   "cell_type": "code",
   "execution_count": 22,
   "metadata": {},
   "outputs": [],
   "source": [
    "import random\n",
    "import torch.optim as optim\n",
    "class MRQTradingAgent:\n",
    "    def __init__(self, state_dim, action_dim=3, learning_rate=0.001, exploration_prob=0.2):\n",
    "        self.policy_network = nn.Sequential(\n",
    "            nn.Linear(state_dim, 64),\n",
    "            nn.ReLU(),\n",
    "            nn.Linear(64, 32),\n",
    "            nn.ReLU(),\n",
    "            nn.Linear(32, action_dim),\n",
    "            nn.Softmax(dim=-1)\n",
    "        )\n",
    "        self.optimizer = optim.Adam(self.policy_network.parameters(), lr=learning_rate)\n",
    "        self.loss_fn = nn.MSELoss()\n",
    "        self.exploration_prob = exploration_prob  \n",
    "\n",
    "    def select_action(self, state):\n",
    "        \"\"\"MR.Q uses softmax-based selection with forced exploration.\"\"\"\n",
    "        if random.random() < self.exploration_prob:\n",
    "            return random.choice([0, 1, 2])  # Random action (Buy, Sell, Hold)\n",
    "\n",
    "        with torch.no_grad():\n",
    "            state_tensor = torch.tensor(state, dtype=torch.float32)\n",
    "            action_probs = self.policy_network(state_tensor)\n",
    "            return torch.multinomial(action_probs, 1).item()  # Sample from softmax probabilities\n",
    "\n",
    "    def train(self, buffer, batch_size=32):\n",
    "        if len(buffer.states) < batch_size:\n",
    "            return  \n",
    "\n",
    "        states, actions, rewards, next_states, dones, _, _ = buffer.sample(batch_size)\n",
    "\n",
    "        actions_one_hot = torch.nn.functional.one_hot(actions, num_classes=3).float()\n",
    "        q_values = self.policy_network(states)\n",
    "        q_values = (q_values * actions_one_hot).sum(dim=1, keepdim=True)\n",
    "        next_q_values = self.policy_network(next_states).max(dim=1, keepdim=True)[0]\n",
    "        target_q_values = rewards + 0.99 * next_q_values * (1 - dones)\n",
    "        \n",
    "        loss = self.loss_fn(q_values, target_q_values.detach())\n",
    "\n",
    "        self.optimizer.zero_grad()\n",
    "        loss.backward()\n",
    "        self.optimizer.step()"
   ]
  },
  {
   "cell_type": "markdown",
   "metadata": {},
   "source": [
    "## Define the DQN Trading Agent\n",
    "\n",
    "This code implements a Deep Q-Network (DQN) trading agent that uses reinforcement learning to decide whether to buy, sell, or hold stocks based on historical market data."
   ]
  },
  {
   "cell_type": "code",
   "execution_count": 23,
   "metadata": {},
   "outputs": [],
   "source": [
    "import torch.nn as nn\n",
    "import torch.optim as optim\n",
    "import random\n",
    "\n",
    "class DQNTradingAgent:\n",
    "    def __init__(self, state_dim, action_dim=3, learning_rate=0.001, gamma=0.99, epsilon=1.0, epsilon_min=0.01, epsilon_decay=0.995, tau=0.005):\n",
    "        self.q_network = nn.Sequential(\n",
    "            nn.Linear(state_dim, 64),\n",
    "            nn.ReLU(),\n",
    "            nn.Linear(64, 32),\n",
    "            nn.ReLU(),\n",
    "            nn.Linear(32, action_dim)\n",
    "        )\n",
    "\n",
    "        # ✅ Target network (copy of q_network)\n",
    "        self.q_target_network = nn.Sequential(\n",
    "            nn.Linear(state_dim, 64),\n",
    "            nn.ReLU(),\n",
    "            nn.Linear(64, 32),\n",
    "            nn.ReLU(),\n",
    "            nn.Linear(32, action_dim)\n",
    "        )\n",
    "        self.q_target_network.load_state_dict(self.q_network.state_dict())  \n",
    "        self.q_target_network.eval()  \n",
    "\n",
    "        self.optimizer = optim.Adam(self.q_network.parameters(), lr=learning_rate)\n",
    "        self.loss_fn = nn.MSELoss()\n",
    "        self.gamma = gamma  \n",
    "        self.epsilon = epsilon  \n",
    "        self.epsilon_min = epsilon_min  \n",
    "        self.epsilon_decay = epsilon_decay  \n",
    "        self.tau = tau  \n",
    "\n",
    "    def update_target_network(self):\n",
    "        \"\"\"Soft update: Slowly blends target network weights with main network.\"\"\"\n",
    "        for target_param, param in zip(self.q_target_network.parameters(), self.q_network.parameters()):\n",
    "            target_param.data.copy_(self.tau * param.data + (1 - self.tau) * target_param.data)\n",
    "\n",
    "    def select_action(self, state):\n",
    "        \"\"\"DQN selects actions using epsilon-greedy policy.\"\"\"\n",
    "        if random.random() < self.epsilon:  \n",
    "            return random.choice([0, 1, 2])  \n",
    "\n",
    "        with torch.no_grad():\n",
    "            state_tensor = torch.tensor(state, dtype=torch.float32)\n",
    "            action_values = self.q_network(state_tensor)\n",
    "            return torch.argmax(action_values).item()\n",
    "\n",
    "    def train(self, buffer, batch_size=32):\n",
    "        if len(buffer.states) < batch_size:\n",
    "            return  \n",
    "\n",
    "        states, actions, rewards, next_states, dones, weights, indices = buffer.sample(batch_size)\n",
    "\n",
    "        q_values = self.q_network(states).gather(1, actions.unsqueeze(1))\n",
    "\n",
    "        with torch.no_grad():\n",
    "            next_q_values = self.q_target_network(next_states).max(dim=1, keepdim=True)[0]\n",
    "            target_q_values = rewards + self.gamma * next_q_values * (1 - dones)\n",
    "\n",
    "        td_errors = target_q_values - q_values\n",
    "        loss = (weights * td_errors.pow(2)).mean()  \n",
    "\n",
    "        self.optimizer.zero_grad()\n",
    "        loss.backward()\n",
    "        self.optimizer.step()\n",
    "\n",
    "        buffer.update_priorities(indices, td_errors.abs())  \n",
    "\n",
    "        self.update_target_network()\n",
    "\n",
    "        self.epsilon = max(self.epsilon_min, self.epsilon * self.epsilon_decay)  \n",
    "        return loss.item()\n"
   ]
  },
  {
   "cell_type": "markdown",
   "metadata": {},
   "source": [
    "## Train Both Agents"
   ]
  },
  {
   "cell_type": "code",
   "execution_count": 24,
   "metadata": {},
   "outputs": [],
   "source": [
    "# 🔹 Train Both Agents with Prioritized Experience Replay (PER)\n",
    "buffer = PrioritizedReplayBuffer()\n",
    "mrq_agent = MRQTradingAgent(state_dim=6)\n",
    "dqn_agent = DQNTradingAgent(state_dim=6)\n",
    "\n",
    "mrq_values, dqn_values = [10000], [10000]  # Initial capital values\n",
    "\n",
    "def calculate_reward(action, next_price, current_price):\n",
    "    \"\"\"Computes reward based on action and price movement.\"\"\"\n",
    "    if action == 1 and next_price > current_price:  # Buy & price increases ✅\n",
    "        return 5\n",
    "    elif action == 2 and next_price < current_price:  # Sell & price drops ✅\n",
    "        return 5\n",
    "    elif action == 1 and next_price < current_price:  # Buy & price drops ❌\n",
    "        return -5\n",
    "    elif action == 2 and next_price > current_price:  # Sell & price increases ❌\n",
    "        return -5\n",
    "    return -1  # Encourage trading\n",
    "\n",
    "for i in range(len(data) - 1):\n",
    "    state = data.iloc[i].values\n",
    "    next_state = data.iloc[i + 1].values\n",
    "    next_price, current_price = next_state[0], state[0]\n",
    "\n",
    "    # 🔹 Select actions\n",
    "    mrq_action = mrq_agent.select_action(state)\n",
    "    dqn_action = dqn_agent.select_action(state)\n",
    "\n",
    "    # ✅ Compute rewards\n",
    "    mrq_reward = calculate_reward(mrq_action, next_price, current_price)\n",
    "    dqn_reward = calculate_reward(dqn_action, next_price, current_price)\n",
    "\n",
    "    done = (i == len(data) - 2)  # Mark last step\n",
    "\n",
    "    # 🔹 Store experiences in buffer\n",
    "    buffer.add(state, mrq_action, mrq_reward, next_state, done)\n",
    "    buffer.add(state, dqn_action, dqn_reward, next_state, done)\n",
    "\n",
    "    # 🔹 Train the agents multiple times per step\n",
    "    if len(buffer.states) > 32:\n",
    "        for _ in range(10):\n",
    "            mrq_agent.train(buffer)\n",
    "            dqn_agent.train(buffer)\n",
    "\n",
    "    # 🔹 Update portfolio values\n",
    "    mrq_values.append(mrq_values[-1] + mrq_reward)\n",
    "    dqn_values.append(dqn_values[-1] + dqn_reward)"
   ]
  },
  {
   "cell_type": "code",
   "execution_count": 27,
   "metadata": {},
   "outputs": [
    {
     "data": {
      "image/png": "[encoded data removed]",
      "text/plain": [
       "<Figure size 1200x600 with 1 Axes>"
      ]
     },
     "metadata": {},
     "output_type": "display_data"
    }
   ],
   "source": [
    "import matplotlib.pyplot as plt\n",
    "# 🔹 Plot Performance Comparison\n",
    "plt.figure(figsize=(12, 6))\n",
    "plt.plot(dates, mrq_values, label=\"MR.Q\", color=\"blue\")\n",
    "plt.plot(dates, dqn_values, label=\"DQN\", color=\"red\", linestyle=\"dashed\")\n",
    "plt.legend()\n",
    "plt.show()\n"
   ]
  },
  {
   "cell_type": "code",
   "execution_count": 28,
   "metadata": {},
   "outputs": [
    {
     "name": "stdout",
     "output_type": "stream",
     "text": [
      "MR.Q Action Distribution: Counter({1: 3033, 2: 243, 0: 225})\n",
      "DQN Action Distribution: Counter({1: 3424, 2: 64, 0: 13})\n"
     ]
    }
   ],
   "source": [
    "from collections import Counter\n",
    "\n",
    "mrq_action_counts = Counter()\n",
    "dqn_action_counts = Counter()\n",
    "\n",
    "for i in range(len(data)-1):\n",
    "    state = data.iloc[i].values\n",
    "    mrq_action = mrq_agent.select_action(state)\n",
    "    dqn_action = dqn_agent.select_action(state)\n",
    "\n",
    "    mrq_action_counts[mrq_action] += 1\n",
    "    dqn_action_counts[dqn_action] += 1\n",
    "\n",
    "print(\"MR.Q Action Distribution:\", mrq_action_counts)\n",
    "print(\"DQN Action Distribution:\", dqn_action_counts)\n"
   ]
  }
 ],
 "metadata": {
  "kernelspec": {
   "display_name": "venv",
   "language": "python",
   "name": "python3"
  },
  "language_info": {
   "codemirror_mode": {
    "name": "ipython",
    "version": 3
   },
   "file_extension": ".py",
   "mimetype": "text/x-python",
   "name": "python",
   "nbconvert_exporter": "python",
   "pygments_lexer": "ipython3",
   "version": "3.11.4"
  }
 },
 "nbformat": 4,
 "nbformat_minor": 2
}
