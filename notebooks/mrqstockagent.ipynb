{
 "cells": [
  {
   "cell_type": "code",
   "execution_count": 2,
   "metadata": {},
   "outputs": [
    {
     "name": "stdout",
     "output_type": "stream",
     "text": [
      "['C:\\\\Users\\\\ernan\\\\AppData\\\\Local\\\\Programs\\\\Python\\\\Python311\\\\python311.zip', 'C:\\\\Users\\\\ernan\\\\AppData\\\\Local\\\\Programs\\\\Python\\\\Python311\\\\DLLs', 'C:\\\\Users\\\\ernan\\\\AppData\\\\Local\\\\Programs\\\\Python\\\\Python311\\\\Lib', 'C:\\\\Users\\\\ernan\\\\AppData\\\\Local\\\\Programs\\\\Python\\\\Python311', 'd:\\\\projects\\\\MRQ\\\\venv', '', 'd:\\\\projects\\\\MRQ\\\\venv\\\\Lib\\\\site-packages', 'd:\\\\projects\\\\MRQ\\\\venv\\\\Lib\\\\site-packages\\\\win32', 'd:\\\\projects\\\\MRQ\\\\venv\\\\Lib\\\\site-packages\\\\win32\\\\lib', 'd:\\\\projects\\\\MRQ\\\\venv\\\\Lib\\\\site-packages\\\\Pythonwin', 'd:\\\\projects\\\\MRQ\\\\mrq', 'd:\\\\projects\\\\MRQ\\\\mrq']\n"
     ]
    }
   ],
   "source": [
    "import sys\n",
    "import os\n",
    "\n",
    "# Get the absolute path of the parent directory containing 'mrq'\n",
    "sys.path.append(os.path.abspath(\"../mrq\"))\n",
    "\n",
    "# Verify it is added\n",
    "print(sys.path)\n",
    "import MRQ  # Assuming mrq/utils.py exists\n"
   ]
  },
  {
   "cell_type": "code",
   "execution_count": 3,
   "metadata": {},
   "outputs": [
    {
     "name": "stdout",
     "output_type": "stream",
     "text": [
      "YF.download() has changed argument auto_adjust default to True\n"
     ]
    },
    {
     "name": "stderr",
     "output_type": "stream",
     "text": [
      "[*********************100%***********************]  1 of 1 completed\n"
     ]
    },
    {
     "name": "stdout",
     "output_type": "stream",
     "text": [
      "       Close     SMA_5    SMA_20    Return  Volatility        RSI\n",
      "20  5.894133  5.957449  6.204051 -0.001505    0.146020  40.705380\n",
      "21  5.995548  5.905388  6.181255  0.122180    0.165844  41.111481\n",
      "22  5.779475  5.861812  6.152787 -0.140837    0.161059  37.621090\n",
      "23  5.882094  5.882276  6.130036  0.085164    0.104118  42.533189\n",
      "24  5.841771  5.878604  6.103162 -0.047247    0.105104  33.221056\n",
      "Final Portfolio Value: $11336.75\n",
      "Total Profit: $1336.75\n",
      "Total Return: 13.37%\n"
     ]
    }
   ],
   "source": [
    "import yfinance as yf\n",
    "import pandas as pd\n",
    "import torch\n",
    "from torch.utils.data import DataLoader\n",
    "import matplotlib.pyplot as plt\n",
    "from torch.utils.data import DataLoader\n",
    "import matplotlib.pyplot as plt\n",
    "from MRQStockAgent import MRQStockAgent\n",
    "\n",
    "def get_stock_data(symbol, start=\"2010-01-01\", end=\"2024-01-01\"):\n",
    "    \"\"\"Fetch stock data from Yahoo Finance.\"\"\"\n",
    "    data = yf.download(symbol, start=start, end=end)\n",
    "    file_name = f\"{symbol}_{start}_{end}.csv\"\n",
    "    data.to_csv(file_name)\n",
    "    headers = ['Date','Close','High','Low','Open','Volume']\n",
    "\n",
    "    # Load CSV while skipping the first 3 lines\n",
    "    stock = pd.read_csv(file_name, skiprows=3, names=headers)\n",
    "    stock[\"SMA_5\"] = stock[\"Close\"].rolling(window=5).mean()\n",
    "    stock[\"SMA_20\"] = stock[\"Close\"].rolling(window=20).mean()\n",
    "    stock[\"Return\"] = stock[\"Close\"] - stock[\"Open\"]\n",
    "    stock[\"Volatility\"] = stock[\"Return\"].rolling(window=5).std()\n",
    "    delta = stock[\"Close\"].diff(1)\n",
    "    delta.fillna(0, inplace=True)  # Fix: Replace NaN with 0\n",
    "\n",
    "    gain = delta.where(delta > 0, 0)\n",
    "    loss = -delta.where(delta < 0, 0)\n",
    "\n",
    "    # Ensure no NaN issues in rolling calculations\n",
    "    avg_gain = gain.rolling(window=14, min_periods=1).mean()\n",
    "    avg_loss = loss.rolling(window=14, min_periods=1).mean()\n",
    "\n",
    "    rs = avg_gain / (avg_loss + 1e-9)  # Avoid division by zero\n",
    "    stock[\"RSI\"] = 100 - (100 / (1 + rs))\n",
    "    stock = stock.iloc[20:] # calc of 20 day moving average will lead ot NaN values\n",
    "    return stock\n",
    "\n",
    "data = get_stock_data(\"AAPL\")\n",
    "FEATURES = [\"Close\", \"SMA_5\", \"SMA_20\", \"Return\", \"Volatility\", \"RSI\"]\n",
    "data[FEATURES].head()\n",
    "data = data[FEATURES]\n",
    "data = data.astype(float)\n",
    "dates = data.index\n",
    "print(data.head())\n",
    "\n",
    "\n",
    "\n",
    "# ✅ Set up training environment\n",
    "device = torch.device(\"cuda\" if torch.cuda.is_available() else \"cpu\")\n",
    "obs_shape = (len(FEATURES),)  # State dimension\n",
    "action_dim = 3  # Buy, Sell, Hold\n",
    "\n",
    "# Initialize MR.Q agent\n",
    "mrq_agent = MRQStockAgent(obs_shape=obs_shape, action_dim=action_dim, device=device)\n",
    "\n",
    "# Initialize portfolio tracking\n",
    "capital = 10000\n",
    "holdings = 0\n",
    "portfolio_values = []\n",
    "buy_dates, sell_dates = [], []\n",
    "\n",
    "# Training loop\n",
    "for i in range(len(data) - 1):\n",
    "    state = data.iloc[i].values\n",
    "    next_state = data.iloc[i + 1].values\n",
    "\n",
    "    action = mrq_agent.select_action(state)\n",
    "\n",
    "    # Compute rewards\n",
    "    reward = (next_state[0] - state[0]) * (1 if action == 1 else -1)\n",
    "\n",
    "    if action == 1 and next_state[0] > state[0]:\n",
    "        reward += 2\n",
    "    elif action == 2 and next_state[0] < state[0]:\n",
    "        reward += 2\n",
    "    elif action == 1 and next_state[0] < state[0]:\n",
    "        reward -= 2\n",
    "    elif action == 2 and next_state[0] > state[0]:\n",
    "        reward -= 2\n",
    "\n",
    "    # Store experience in replay buffer\n",
    "    done = (i == len(data) - 2)\n",
    "\n",
    "    # mrq_agent.replay_buffer.add(state, action, reward, next_state, done, False)\n",
    "\n",
    "    mrq_agent.replay_buffer.add(\n",
    "        torch.tensor(state, dtype=torch.float32, device=mrq_agent.device).unsqueeze(0).clone().detach(),\n",
    "        # ✅ Ensure correct shape\n",
    "        int(action),  # ✅ Ensure action is passed as an integer\n",
    "        torch.tensor(next_state, dtype=torch.float32, device=mrq_agent.device).unsqueeze(0).clone().detach(),\n",
    "        # ✅ Ensure correct shape\n",
    "        float(reward),  # ✅ Pass reward as a float (not a tensor)\n",
    "        bool(done),  # ✅ Convert done flag to boolean\n",
    "        False  # ✅ Convert truncated flag to boolean\n",
    "    )\n",
    "\n",
    "    # Train the agent\n",
    "    if mrq_agent.replay_buffer.size > 32:\n",
    "        for _ in range(10):\n",
    "            mrq_agent.train()\n",
    "\n",
    "    # Portfolio value tracking\n",
    "    if action == 1 and capital >= state[0]:\n",
    "        holdings += 1\n",
    "        capital -= state[0]\n",
    "        buy_dates.append(dates[i])\n",
    "    elif action == 2 and holdings > 0:\n",
    "        holdings -= 1\n",
    "        capital += state[0]\n",
    "        sell_dates.append(dates[i])\n",
    "\n",
    "    total_value = capital + holdings * state[0]\n",
    "    portfolio_values.append(total_value)\n",
    "\n",
    "# Final portfolio value\n",
    "final_value = capital + holdings * data.iloc[-1][\"Close\"]\n",
    "print(f\"Final Portfolio Value: ${final_value:.2f}\")\n",
    "print(f\"Total Profit: ${final_value - 10000:.2f}\")\n",
    "print(f\"Total Return: {(final_value - 10000) / 10000 * 100:.2f}%\")"
   ]
  }
 ],
 "metadata": {
  "kernelspec": {
   "display_name": "venv",
   "language": "python",
   "name": "python3"
  },
  "language_info": {
   "codemirror_mode": {
    "name": "ipython",
    "version": 3
   },
   "file_extension": ".py",
   "mimetype": "text/x-python",
   "name": "python",
   "nbconvert_exporter": "python",
   "pygments_lexer": "ipython3",
   "version": "3.11.4"
  }
 },
 "nbformat": 4,
 "nbformat_minor": 2
}
